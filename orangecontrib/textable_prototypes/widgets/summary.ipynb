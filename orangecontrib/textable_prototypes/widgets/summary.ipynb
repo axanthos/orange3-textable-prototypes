{
 "cells": [
  {
   "cell_type": "markdown",
   "metadata": {},
   "source": [
    "# Récapitulation extractive de textes avec Python\n",
    "Cette méthode utilise **Scikit-learn** et **spaCy** pour sélectionner les phrases les plus importantes dans un texte donné. Les phrases vont être gardées en entier.  \n",
    "Une phrase est délimitée par un **.** ou **;**.  \n",
    "#### Avantage  \n",
    "Peu d'installations à faire puisqu'utilise spaCy; qui existe déjà comme widget dans Textable Prototypes. \n",
    "Comme c'est une méthode extractive, permet de visualiser les phrases retenues.\n",
    "#### Désavantage\n",
    "Il faut tout de même installer scikit-learn. \n",
    "L'algorithme ne crée pas de nouvelles phrases, c'est donc moins naturel. \n",
    "\n",
    "Installation des librairies:\n",
    "- `$ pip install -U spacy`\n",
    "- `$ pip install -U scikit-learn`  \n",
    "\n",
    "Télécharger les langages voulus:\n",
    "- Anglais `$ python -m spacy download en_core_news_sm`\n",
    "- Portugais `$ python -m spacy download pt_core_news_sm`\n",
    "- Français `$ python -m spacy download fr_core_news_sm`"
   ]
  },
  {
   "cell_type": "code",
   "execution_count": 2,
   "metadata": {},
   "outputs": [],
   "source": [
    "# Imports\n",
    "import spacy\n",
    "# To run this in anoter language, un-comment the correct list of STOP_WORDS\n",
    "from spacy.lang.pt.stop_words import STOP_WORDS\n",
    "# from spacy.lang.en.stop_words import STOP_WORDS\n",
    "# from spacy.lang.fr.stop_words import STOP_WORDS\n",
    "from sklearn.feature_extraction.text import CountVectorizer\n",
    "\n",
    "# Load the packages by name with Spacy built in load()\n",
    "nlpPT = spacy.load(\"pt_core_news_sm\")\n",
    "nlpFR = spacy.load(\"fr_core_news_sm\")\n",
    "nlpEN = spacy.load(\"en_core_web_sm\")"
   ]
  },
  {
   "cell_type": "code",
   "execution_count": 3,
   "metadata": {},
   "outputs": [],
   "source": [
    "# Get content from txt examples\n",
    "with open('frankEN.txt') as f: textEN = f.read()\n",
    "docEN = nlpEN(textEN)\n",
    "with open('frankFR.txt') as f: textFR = f.read()\n",
    "docFR = nlpFR(textFR)\n",
    "with open('frankPT.txt') as f: textPT = f.read()\n",
    "docPT = nlpPT(textPT)"
   ]
  },
  {
   "cell_type": "code",
   "execution_count": 24,
   "metadata": {},
   "outputs": [],
   "source": [
    "# Global var\n",
    "\n",
    "number_sents = 3"
   ]
  },
  {
   "cell_type": "markdown",
   "metadata": {},
   "source": [
    "## Compter les mots\n",
    "\n",
    "La cellule suivante va segmenter le texte en phrase, puis créer une liste de mots distincts qui apparaissent dans tout le texte. On va y soustraire une liste prédéfinie par spaCy de STOP_WORDS qui sont inutiles. C'est pas exemple des déterminants ou mots très communs avec peu de sens. \n",
    "\n",
    "On compte ensuite combien de fois chaque mot apparaît dans chaque phrase. \n",
    "\n",
    "A la fin, on crée un dictionnaire qui a pour key/value chaque mot/nombre de fois qu'il apparaît. "
   ]
  },
  {
   "cell_type": "code",
   "execution_count": 19,
   "metadata": {},
   "outputs": [
    {
     "name": "stdout",
     "output_type": "stream",
     "text": [
      "List of STOP_WORDS:\n",
      "frozenset({'portanto', 'a', 'esses', 'dez', 'tempo', 'quarto', 'daquela', 'tudo', 'sem', 'tem', 'novas', 'vossas', 'vários', 'ligado', 'o', 'adeus', 'nove', 'primeiro', 'toda', 'tipo', 'fazemos', 'era', 'conhecida', 'ali', 'dezanove', 'atrás', 'dezassete', 'mas', 'momento', 'quinta', 'quê', 'pois', 'muitos', 'tão', 'quer', 'parte', 'e', 'te', 'fui', 'como', 'vós', 'dessa', 'tanta', 'daquele', 'algumas', 'qualquer', 'isto', 'caminho', 'as', 'nenhuma', 'apoia', 'exemplo', 'grande', 'nossa', 'porquê', 'ter', 'todos', 'disso', 'depois', 'bem', 'dezasseis', 'então', 'estado', 'estava', 'todo', 'fim', 'longe', 'novo', 'favor', 'que', 'partir', 'é', 'fomos', 'vêm', 'comprida', 'podia', 'vens', 'às', 'ademais', 'tiveram', 'após', 'mil', 'primeira', 'obrigada', 'temos', 'aquilo', 'teve', 'demais', 'à', 'estiveram', 'por', 'até', 'poder', 'vocês', 'fora', 'seu', 'meu', 'nova', 'naquela', 'numa', 'onze', 'seria', 'geral', 'diz', 'fostes', 'poderá', 'outra', 'talvez', 'ele', 'em', 'tua', 'for', 'tuas', 'irá', 'cá', 'dentro', 'dar', 'estiveste', 'dizem', 'faço', 'ontem', 'pouco', 'usa', 'doze', 'assim', 'ao', 'diante', 'nuns', 'enquanto', 'uma', 'este', 'ela', 'terceira', 'acerca', 'minha', 'cada', 'outros', 'aquele', 'você', 'dizer', 'quinze', 'questão', 'mês', 'número', 'pelas', 'esta', 'pelo', 'onde', 'final', 'perto', 'sabe', 'meses', 'faz', 'fazer', 'sei', 'oito', 'foi', 'de', 'pontos', 'vosso', 'esse', 'além', 'falta', 'vais', 'ambos', 'nada', 'estivestes', 'da', 'coisa', 'deste', 'fará', 'menos', 'somos', 'tentei', 'contra', 'bastante', 'lá', 'fazeis', 'pela', 'iniciar', 'lado', 'tal', 'dos', 'estou', 'meus', 'mesmo', 'vindo', 'não', 'ponto', 'têm', 'são', 'esteve', 'possível', 'posição', 'fez', 'cento', 'aquela', 'valor', 'terceiro', 'tenho', 'nunca', 'relação', 'quatro', 'eu', 'forma', 'estão', 'área', 'querem', 'se', 'sob', 'cuja', 'tanto', 'fazia', 'debaixo', 'tente', 'comprido', 'para', 'tentar', 'sobre', 'tivestes', 'cedo', 'vinte', 'nosso', 'eles', 'nem', 'todas', 'quando', 'corrente', 'vem', 'treze', 'números', 'desta', 'porque', 'sexto', 'direita', 'novos', 'estivemos', 'lhe', 'ou', 'podem', 'zero', 'qual', 'inicio', 'ir', 'oitava', 'cujo', 'ser', 'quero', 'alguns', 'tu', 'desse', 'mal', 'lugar', 'és', 'pode', 'nos', 'duas', 'apoio', 'sistema', 'apenas', 'antes', 'na', 'certeza', 'boa', 'embora', 'segundo', 'aí', 'grupo', 'sim', 'os', 'nesse', 'aquelas', 'parece', 'sua', 'sexta', 'meio', 'quieta', 'muito', 'essa', 'pouca', 'nível', 'sois', 'vos', 'sete', 'puderam', 'nossos', 'menor', 'no', 'fazem', 'baixo', 'desde', 'vezes', 'aqui', 'só', 'agora', 'estes', 'mais', 'porquanto', 'conselho', 'minhas', 'pegar', 'tarde', 'breve', 'dezoito', 'quinto', 'um', 'posso', 'num', 'elas', 'estás', 'sempre', 'deve', 'essas', 'sétima', 'quais', 'tive', 'conhecido', 'grandes', 'cima', 'próxima', 'vai', 'aos', 'aqueles', 'eventual', 'das', 'vossos', 'suas', 'maior', 'quem', 'saber', 'sou', 'dão', 'dá', 'estive', 'nessa', 'estará', 'pôde', 'tens', 'povo', 'ora', 'foram', 'obrigado', 'cinco', 'porém', 'próximo', 'nesta', 'três', 'inclusive', 'teu', 'tais', 'dois', 'catorze', 'naquele', 'foste', 'nós', 'último', 'oitavo', 'está', 'logo', 'neste', 'outras', 'seus', 'ver', 'des', 'custa', 'tendes', 'bom', 'deverá', 'põem', 'teus', 'ainda', 'veja', 'vez', 'sétimo', 'vão', 'contudo', 'usar', 'certamente', 'quieto', 'algo', 'também', 'põe', 'devem', 'ambas', 'apontar', 'quanto', 'maiorias', 'já', 'vinda', 'local', 'quarta', 'segunda', 'estar', 'tentaram', 'isso', 'através', 'fazes', 'nas', 'me', 'próprio', 'maioria', 'umas', 'entre', 'vossa', 'seis', 'máximo', 'com', 'pelos', 'uns', 'do', 'possivelmente', 'tiveste', 'tivemos', 'estas', 'nossas', 'somente'})\n",
      "List of words from text:\n",
      "['aberta', 'acredita', 'acrescidas', 'afinidades', 'afoitamente', 'ajudar', 'albatrozes', 'alegria', 'alguém', 'alma', 'alquebrado', 'aluguei', 'alusão', 'amada', 'amado', 'amava', 'amigo', 'amigos', 'amo', 'amor', 'amou', 'amplo', 'amplos', 'anos', 'anseio', 'apaixonado', 'apesar', 'aprovar', 'aptidões', 'archangel', 'ardentemente', 'aspira', 'assombroso', 'assuntos', 'atirando', 'ativo', 'atribuído', 'ausência', 'autodidata', 'aventura', 'baleeiro', 'base', 'biblioteca', 'bordo', 'brandura', 'bravo', 'brutalidade', 'caminhos', 'características', 'carinho', 'cartas', 'caráter', 'casado', 'casamento', 'causa', 'cercado', 'cerimônia', 'certa', 'cidade', 'coloca', 'colocar', 'comerciantes', 'comigo', 'companhia', 'comportamento', 'comprado', 'comum', 'condições', 'conduta', 'confessando', 'confiar', 'conforme', 'conhece', 'conhecer', 'conheci', 'consagrados', 'consentisse', 'consentiu', 'conserva', 'considerando', 'considerar', 'considerável', 'consigo', 'consolo', 'continue', 'contratei', 'convidei', 'coragem', 'corajoso', 'corajosos', 'corrigir', 'crença', 'criação', 'cuidado', 'cujas', 'cultura', 'decepção', 'decididamente', 'dei', 'deixasse', 'deixou', 'delas', 'dele', 'descrever', 'deseja', 'desejasse', 'desejo', 'desejos', 'desempregado', 'desfez', 'desgosto', 'desistiu', 'destaca', 'destemidos', 'destino', 'deu', 'dificuldades', 'dignos', 'diminui', 'dinheiro', 'discernimento', 'disciplina', 'disposição', 'distante', 'dividir', 'ebulição', 'elevada', 'elevar', 'embarque', 'empenhada', 'empreendedor', 'empreitada', 'encontrarei', 'encontrou', 'enfraquecido', 'entanto', 'entender', 'entusiasmado', 'entusiasmo', 'escrever', 'estudantes', 'ex', 'excelente', 'executar', 'execução', 'exploradas', 'fadiga', 'falar', 'falhas', 'farei', 'fato', 'fazenda', 'felicidade', 'feminina', 'firmes', 'fizeram', 'fortuna', 'fosse', 'ganho', 'gelo', 'generoso', 'gentileza', 'glória', 'harmonia', 'havia', 'história', 'homem', 'homens', 'há', 'idade', 'idéias', 'iguais', 'iletrado', 'imaginativos', 'imaginava', 'imediatamente', 'imediato', 'impaciente', 'impelindo', 'impossível', 'impulsivo', 'incapaz', 'indo', 'infeliz', 'inflexível', 'inglês', 'inserida', 'inspirar', 'instante', 'integridade', 'intensa', 'intenso', 'inverno', 'inúteis', 'iria', 'irmã', 'irmão', 'jamais', 'jovem', 'juventude', 'lamentos', 'leitura', 'lembre', 'lentamente', 'li', 'ligação', 'livros', 'lo', 'lágrimas', 'línguas', 'magníficos', 'maneira', 'manifestar', 'mar', 'margaret', 'marinheiro', 'marinheiros', 'matar', 'medo', 'melhores', 'mentalidade', 'mestre', 'mim', 'mistérios', 'modernos', 'modo', 'moldou', 'momentos', 'mostrava', 'moça', 'muitas', 'mulher', 'nacional', 'navio', 'navios', 'necessidade', 'nenhum', 'neve', 'nevoeiro', 'ninguém', 'nobre', 'nobreza', 'normais', 'notícias', 'oceano', 'operário', 'organizar', 'outro', 'ouvi', 'paciência', 'pai', 'palavra', 'palavras', 'papel', 'parecem', 'participar', 'partida', 'passa', 'passar', 'passei', 'passo', 'país', 'pediu', 'pensado', 'pensamentos', 'pense', 'pequena', 'pequenas', 'percebi', 'perderam', 'perguntar', 'perigosos', 'permitam', 'permitiria', 'perseverança', 'perspectiva', 'pessoa', 'pintores', 'planos', 'pobre', 'poderia', 'poetas', 'prazer', 'precisam', 'precisarei', 'preconceito', 'preocupações', 'preocupe', 'preparativos', 'preso', 'pretendo', 'primavera', 'principalmente', 'procura', 'procure', 'profissional', 'profissão', 'projetos', 'promissora', 'pronto', 'propósitos', 'prorrogada', 'prova', 'prudência', 'prática', 'pude', 'puder', 'pés', 'quantia', 'queixas', 'querida', 'queridos', 'realização', 'realmente', 'receberei', 'recurso', 'recusou', 'refere', 'refinada', 'regiões', 'resolvido', 'responsabilidade', 'restara', 'resto', 'resumo', 'revelar', 'rindo', 'rival', 'rogou', 'romântica', 'rude', 'rudes', 'russa', 'sabendo', 'satisfazer', 'segredo', 'segurança', 'sejam', 'selecionando', 'senhora', 'sensação', 'sensações', 'sentimentos', 'sereno', 'severo', 'sido', 'simpatia', 'sinto', 'solidão', 'sonhador', 'sonhos', 'soube', 'suave', 'sucesso', 'suficiente', 'superar', 'suprir', 'surpreendente', 'tenha', 'ternura', 'terra', 'terrivelmente', 'terrível', 'thomas', 'tio', 'tiver', 'tomado', 'torna', 'totalmente', 'trabalhador', 'tranquilizou', 'transmitir', 'turco', 'tê', 'união', 'velho', 'verdade', 'viagem', 'viagens', 'vibrante', 'vida', 'virá', 'viver', 'vivi', 'voltarei', 'voltemos', 'voltou', 'vou', 'àquela', 'ânimo', 'única']\n",
      "Matrix:\n",
      "[[0 0 0 ... 0 0 0]\n",
      " [0 0 0 ... 0 0 0]\n",
      " [0 0 0 ... 0 0 0]\n",
      " ...\n",
      " [0 0 0 ... 0 1 0]\n",
      " [0 0 0 ... 0 0 0]\n",
      " [0 0 0 ... 0 0 0]]\n",
      "{'aberta': 1, 'acredita': 1, 'acrescidas': 1, 'afinidades': 1, 'afoitamente': 1, 'ajudar': 1, 'albatrozes': 1, 'alegria': 1, 'alguém': 1, 'alma': 1, 'alquebrado': 1, 'aluguei': 1, 'alusão': 1, 'amada': 2, 'amado': 1, 'amava': 1, 'amigo': 6, 'amigos': 1, 'amo': 1, 'amor': 1, 'amou': 1, 'amplo': 1, 'amplos': 1, 'anos': 4, 'anseio': 1, 'apaixonado': 1, 'apesar': 1, 'aprovar': 1, 'aptidões': 1, 'archangel': 1, 'ardentemente': 1, 'aspira': 1, 'assombroso': 1, 'assuntos': 1, 'atirando': 1, 'ativo': 1, 'atribuído': 1, 'ausência': 1, 'autodidata': 1, 'aventura': 1, 'baleeiro': 1, 'base': 1, 'biblioteca': 1, 'bordo': 2, 'brandura': 1, 'bravo': 1, 'brutalidade': 1, 'caminhos': 1, 'características': 1, 'carinho': 1, 'cartas': 1, 'caráter': 1, 'casado': 1, 'casamento': 2, 'causa': 1, 'cercado': 2, 'cerimônia': 1, 'certa': 1, 'cidade': 1, 'coloca': 1, 'colocar': 1, 'comerciantes': 1, 'comigo': 1, 'companhia': 2, 'comportamento': 1, 'comprado': 1, 'comum': 1, 'condições': 1, 'conduta': 1, 'confessando': 1, 'confiar': 2, 'conforme': 1, 'conhece': 1, 'conhecer': 1, 'conheci': 2, 'consagrados': 1, 'consentisse': 1, 'consentiu': 1, 'conserva': 1, 'considerando': 1, 'considerar': 1, 'considerável': 1, 'consigo': 1, 'consolo': 1, 'continue': 1, 'contratei': 1, 'convidei': 1, 'coragem': 1, 'corajoso': 2, 'corajosos': 1, 'corrigir': 1, 'crença': 1, 'criação': 1, 'cuidado': 1, 'cujas': 1, 'cultura': 1, 'decepção': 1, 'decididamente': 1, 'dei': 1, 'deixasse': 1, 'deixou': 1, 'delas': 1, 'dele': 1, 'descrever': 1, 'deseja': 1, 'desejasse': 1, 'desejo': 2, 'desejos': 1, 'desempregado': 1, 'desfez': 1, 'desgosto': 1, 'desistiu': 1, 'destaca': 1, 'destemidos': 1, 'destino': 1, 'deu': 1, 'dificuldades': 1, 'dignos': 1, 'diminui': 1, 'dinheiro': 3, 'discernimento': 1, 'disciplina': 1, 'disposição': 1, 'distante': 1, 'dividir': 1, 'ebulição': 1, 'elevada': 1, 'elevar': 1, 'embarque': 2, 'empenhada': 1, 'empreendedor': 1, 'empreitada': 1, 'encontrarei': 2, 'encontrou': 1, 'enfraquecido': 1, 'entanto': 2, 'entender': 1, 'entusiasmado': 1, 'entusiasmo': 1, 'escrever': 1, 'estudantes': 1, 'ex': 1, 'excelente': 1, 'executar': 1, 'execução': 1, 'exploradas': 1, 'fadiga': 1, 'falar': 1, 'falhas': 1, 'farei': 1, 'fato': 1, 'fazenda': 1, 'felicidade': 1, 'feminina': 1, 'firmes': 1, 'fizeram': 1, 'fortuna': 1, 'fosse': 1, 'ganho': 1, 'gelo': 1, 'generoso': 1, 'gentileza': 1, 'glória': 1, 'harmonia': 1, 'havia': 3, 'história': 1, 'homem': 1, 'homens': 3, 'há': 2, 'idade': 1, 'idéias': 1, 'iguais': 1, 'iletrado': 1, 'imaginativos': 1, 'imaginava': 1, 'imediatamente': 1, 'imediato': 1, 'impaciente': 1, 'impelindo': 1, 'impossível': 1, 'impulsivo': 1, 'incapaz': 1, 'indo': 1, 'infeliz': 1, 'inflexível': 1, 'inglês': 1, 'inserida': 1, 'inspirar': 2, 'instante': 1, 'integridade': 1, 'intensa': 1, 'intenso': 1, 'inverno': 1, 'inúteis': 1, 'iria': 1, 'irmã': 1, 'irmão': 1, 'jamais': 1, 'jovem': 2, 'juventude': 1, 'lamentos': 1, 'leitura': 1, 'lembre': 1, 'lentamente': 1, 'li': 1, 'ligação': 1, 'livros': 1, 'lo': 1, 'lágrimas': 1, 'línguas': 1, 'magníficos': 1, 'maneira': 1, 'manifestar': 1, 'mar': 1, 'margaret': 1, 'marinheiro': 1, 'marinheiros': 2, 'matar': 1, 'medo': 1, 'melhores': 1, 'mentalidade': 1, 'mestre': 1, 'mim': 3, 'mistérios': 1, 'modernos': 1, 'modo': 1, 'moldou': 1, 'momentos': 1, 'mostrava': 1, 'moça': 2, 'muitas': 1, 'mulher': 1, 'nacional': 1, 'navio': 3, 'navios': 1, 'necessidade': 2, 'nenhum': 1, 'neve': 2, 'nevoeiro': 1, 'ninguém': 2, 'nobre': 1, 'nobreza': 1, 'normais': 1, 'notícias': 1, 'oceano': 2, 'operário': 1, 'organizar': 1, 'outro': 4, 'ouvi': 1, 'paciência': 1, 'pai': 3, 'palavra': 1, 'palavras': 1, 'papel': 1, 'parecem': 1, 'participar': 1, 'partida': 1, 'passa': 1, 'passar': 1, 'passei': 1, 'passo': 1, 'país': 2, 'pediu': 1, 'pensado': 1, 'pensamentos': 1, 'pense': 2, 'pequena': 1, 'pequenas': 1, 'percebi': 1, 'perderam': 1, 'perguntar': 1, 'perigosos': 1, 'permitam': 1, 'permitiria': 1, 'perseverança': 1, 'perspectiva': 1, 'pessoa': 2, 'pintores': 1, 'planos': 1, 'pobre': 3, 'poderia': 1, 'poetas': 2, 'prazer': 1, 'precisam': 1, 'precisarei': 1, 'preconceito': 1, 'preocupações': 1, 'preocupe': 1, 'preparativos': 1, 'preso': 1, 'pretendo': 2, 'primavera': 1, 'principalmente': 1, 'procura': 1, 'procure': 1, 'profissional': 1, 'profissão': 1, 'projetos': 1, 'promissora': 1, 'pronto': 1, 'propósitos': 1, 'prorrogada': 1, 'prova': 1, 'prudência': 1, 'prática': 1, 'pude': 1, 'puder': 1, 'pés': 1, 'quantia': 1, 'queixas': 1, 'querida': 1, 'queridos': 1, 'realização': 1, 'realmente': 3, 'receberei': 1, 'recurso': 1, 'recusou': 1, 'refere': 1, 'refinada': 1, 'regiões': 1, 'resolvido': 1, 'responsabilidade': 1, 'restara': 1, 'resto': 1, 'resumo': 1, 'revelar': 1, 'rindo': 1, 'rival': 1, 'rogou': 1, 'romântica': 1, 'rude': 1, 'rudes': 1, 'russa': 1, 'sabendo': 1, 'satisfazer': 1, 'segredo': 1, 'segurança': 2, 'sejam': 1, 'selecionando': 1, 'senhora': 1, 'sensação': 1, 'sensações': 1, 'sentimentos': 2, 'sereno': 1, 'severo': 1, 'sido': 1, 'simpatia': 1, 'sinto': 2, 'solidão': 1, 'sonhador': 2, 'sonhos': 1, 'soube': 1, 'suave': 1, 'sucesso': 2, 'suficiente': 2, 'superar': 1, 'suprir': 1, 'surpreendente': 1, 'tenha': 4, 'ternura': 1, 'terra': 1, 'terrivelmente': 1, 'terrível': 1, 'thomas': 1, 'tio': 1, 'tiver': 1, 'tomado': 1, 'torna': 1, 'totalmente': 1, 'trabalhador': 1, 'tranquilizou': 1, 'transmitir': 1, 'turco': 1, 'tê': 1, 'união': 1, 'velho': 3, 'verdade': 2, 'viagem': 2, 'viagens': 1, 'vibrante': 1, 'vida': 1, 'virá': 1, 'viver': 1, 'vivi': 2, 'voltarei': 1, 'voltemos': 1, 'voltou': 1, 'vou': 1, 'àquela': 1, 'ânimo': 1, 'única': 1}\n"
     ]
    }
   ],
   "source": [
    "# We will continue with the portuguese example\n",
    "# corpus is an array that contains each sentence of the document separately\n",
    "corpus = [sent.text.lower() for sent in docPT.sents ]\n",
    "\n",
    "# Convert text to a matrix of token counts while removing STOP_WORDS that provides very little informations\n",
    "cv = CountVectorizer(stop_words=list(STOP_WORDS))   \n",
    "X = cv.fit_transform(corpus) \n",
    "word_list = cv.get_feature_names();    \n",
    "\n",
    "# Print stop words list\n",
    "print(\"List of STOP_WORDS:\")\n",
    "print(cv.get_stop_words())\n",
    "# Print a list of distincts words (without stop words) in alphabetical order\n",
    "print(\"List of words from text:\")\n",
    "print(word_list)\n",
    "# Matrix: how many times each word appear in each sentence\n",
    "print(\"Matrix:\")\n",
    "print(X.toarray())\n",
    "\n",
    "# Count unique words and how many times they appear\n",
    "word_list = cv.get_feature_names();    \n",
    "count_list = cv_fit.toarray().sum(axis=0)\n",
    "\n",
    "# Create dictionnary of word frequency\n",
    "word_frequency = dict(zip(word_list,count_list))\n",
    "print(word_frequency)"
   ]
  },
  {
   "cell_type": "markdown",
   "metadata": {},
   "source": [
    "## Sort the dictionnary\n",
    "This next cell will first **sort the dictionnary** we juste created,  \n",
    "then get the **relative frequency** of words. \n",
    "\n",
    "The variable that we will use to show more or less words is in val[]. It will be changed because it is annoying to have a negative one. "
   ]
  },
  {
   "cell_type": "code",
   "execution_count": 23,
   "metadata": {},
   "outputs": [
    {
     "name": "stdout",
     "output_type": "stream",
     "text": [
      "\n",
      "Words with higher frequencies:  ['amigo', 'anos', 'outro', 'tenha']\n"
     ]
    }
   ],
   "source": [
    "# Get sorted dict of word frequency and print the top to test\n",
    "val=sorted(word_frequency.values())\n",
    "higher_word_frequencies = [word for word,freq in word_frequency.items() if freq in val[-3:]]\n",
    "print(\"\\nWords with higher frequencies: \", higher_word_frequencies)\n",
    "\n",
    "# gets relative frequency of words to frequent words\n",
    "higher_frequency = val[-1]\n",
    "for word in word_frequency.keys():  \n",
    "    word_frequency[word] = (word_frequency[word]/higher_frequency)"
   ]
  },
  {
   "cell_type": "markdown",
   "metadata": {},
   "source": [
    "## Sentence score\n",
    "\n",
    "Here we attribute a score per sentence according to how many frequent words it has. \n",
    "The sentences with the highest scores will be choose for the summary. "
   ]
  },
  {
   "cell_type": "code",
   "execution_count": 15,
   "metadata": {},
   "outputs": [],
   "source": [
    "# Initialise a sentence dictionnary\n",
    "sentence_rank={}\n",
    "\n",
    "# For each word in each sentence ... \n",
    "for sent in docPT.sents:\n",
    "    for word in sent :    \n",
    "        # if the word appears in word_frequency dict\n",
    "        if word.text.lower() in word_frequency.keys(): \n",
    "            # If the sentence is already in sentence_rank dict, we add points\n",
    "            if sent in sentence_rank.keys():\n",
    "                sentence_rank[sent]+=word_frequency[word.text.lower()]\n",
    "            # else we create a new key/value pair in dict    \n",
    "            else:\n",
    "                sentence_rank[sent]=word_frequency[word.text.lower()]\n",
    "                \n",
    "# Sort sentences\n",
    "top_sentences=(sorted(sentence_rank.values())[::-1])\n",
    "# This is where we can choose how many sentences we want to keep for the summary\n",
    "top_sent=top_sentences[:3]"
   ]
  },
  {
   "cell_type": "code",
   "execution_count": 31,
   "metadata": {},
   "outputs": [
    {
     "name": "stdout",
     "output_type": "stream",
     "text": [
      "Não tenho ninguém próximo a mim, sereno e corajoso, que tenha uma mentalidade elevada e aberta, cujas aptidões sejam iguais às minhas, para aprovar ou corrigir meus planos. e eu realmente anseio por um amigo que tenha discernimento suficiente para não me ver como um sonhador e paciência para ajudar-me a organizar minhas idéias. Passei a juventude em solidão, vivi meus melhores anos em sua suave e feminina companhia, e isso moldou meu caráter de tal forma que sou incapaz de superar o desgosto intenso que me causa a brutalidade, tão comum nos navios. Há alguns anos ele amou uma jovem senhora russa de pequena fortuna e, como ele havia ganho uma considerável quantia em dinheiro, o pai da moça consentiu no casamento. Na prática, sou muito ativo, trabalhador, um operário pronto a executar tudo com perseverança, mas ao lado disso há um amor, uma crença no assombroso inserida em todos os meus projetos, que me coloca distante dos caminhos normais dos homens, impelindo-me para o mar bravo. "
     ]
    }
   ],
   "source": [
    "# We can now create a summary from those sentences:\n",
    "summary=[]\n",
    "for sent,strength in sentence_rank.items():  \n",
    "    if strength in top_sent:\n",
    "        summary.append(sent)\n",
    "    else:\n",
    "        continue\n",
    "for i in summary:\n",
    "    print(i,end=\" \")"
   ]
  },
  {
   "cell_type": "markdown",
   "metadata": {},
   "source": [
    "#### This method will also work with other langages, as long as the correct nlp and correct STOP_WORDS list is used. "
   ]
  },
  {
   "cell_type": "code",
   "execution_count": null,
   "metadata": {},
   "outputs": [],
   "source": []
  }
 ],
 "metadata": {
  "kernelspec": {
   "display_name": "summary",
   "language": "python",
   "name": "summary"
  },
  "language_info": {
   "codemirror_mode": {
    "name": "ipython",
    "version": 3
   },
   "file_extension": ".py",
   "mimetype": "text/x-python",
   "name": "python",
   "nbconvert_exporter": "python",
   "pygments_lexer": "ipython3",
   "version": "3.7.3"
  }
 },
 "nbformat": 4,
 "nbformat_minor": 2
}
